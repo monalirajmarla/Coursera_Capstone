#!/usr/bin/env python
# coding: utf-8

# This notebook is used for Applied Data Science Capstone Project

# In[2]:


import pandas as pd
import numpy as np


# In[3]:


print("Hello Capstone Project Course!")

